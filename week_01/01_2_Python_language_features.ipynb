{
 "cells": [
  {
   "cell_type": "markdown",
   "metadata": {},
   "source": [
    "Open a new Jupyter notebook and call it \"01 class exercise\"\n",
    "\n",
    "Create the first cell as a Markdown cell and give it a Headline (single #) called Class exercise 1.\n",
    "\n",
    "Add this image to the cell: https://miro.medium.com/max/1266/1*Pb8oEA1nGIONsSJk7QSVzg.png using this syntax ![](image url)"
   ]
  },
  {
   "cell_type": "markdown",
   "metadata": {},
   "source": [
    "# 01 Class Exercise!\n",
    "\n",
    "![](https://miro.medium.com/max/1266/1*Pb8oEA1nGIONsSJk7QSVzg.png)"
   ]
  },
  {
   "cell_type": "code",
   "execution_count": null,
   "metadata": {},
   "outputs": [],
   "source": [
    "# The next cell should be a code cell that can take 2 numbers from a user input and multiply them printing out the result.\n",
    "\n",
    "print(\"Enter two numbers and watch the magic happen!\")\n",
    "a = int(input(\"Enter number 1:\"))                                                       # Takes number 1 and then we typecast it to an int so we can multiply it using simple math.\n",
    "b = int(input(\"Enter number 2:\"))                                                       # Takes number 2 and then we typecast it to an int so we can multiply it using simple math.\n",
    "c = a * b                                                                               # Just multiplies the two numbers and save them to a variable.\n",
    "print(\"The sum of {}\".format(a)+\" times {}\".format(b) + \" is: {}\".format(c))            # Here we need to format the variables beacuase they are of the type int so we can print them in the string.\n",
    "print(\"Succes! This is magic!\")\n"
   ]
  }
 ],
 "metadata": {
  "interpreter": {
   "hash": "63fd5069d213b44bf678585dea6b12cceca9941eaf7f819626cde1f2670de90d"
  },
  "kernelspec": {
   "display_name": "Python 3",
   "language": "python",
   "name": "python3"
  },
  "language_info": {
   "codemirror_mode": {
    "name": "ipython",
    "version": 3
   },
   "file_extension": ".py",
   "mimetype": "text/x-python",
   "name": "python",
   "nbconvert_exporter": "python",
   "pygments_lexer": "ipython3",
   "version": "3.7.6"
  }
 },
 "nbformat": 4,
 "nbformat_minor": 2
}
