{
 "cells": [
  {
   "cell_type": "code",
   "execution_count": 1,
   "metadata": {},
   "outputs": [
    {
     "data": {
      "text/plain": [
       "<matplotlib.axes._subplots.AxesSubplot at 0x7f57eda80f50>"
      ]
     },
     "execution_count": 1,
     "metadata": {},
     "output_type": "execute_result"
    },
    {
     "data": {
      "image/png": "[encoded data removed]",
      "text/plain": [
       "<Figure size 432x288 with 1 Axes>"
      ]
     },
     "metadata": {},
     "output_type": "display_data"
    }
   ],
   "source": [
    "import pandas as pd\n",
    "\n",
    "data = pd.read_csv('./Highest Holywood Grossing Movies.csv', skiprows=0)\n",
    "ds_license = pd.Series(data['License'])\n",
    "ds_license_count = ds_license.value_counts()\n",
    "ds_license_count.plot(kind='pie', autopct='%1.0f%%')"
   ]
  },
  {
   "cell_type": "code",
   "execution_count": 6,
   "metadata": {},
   "outputs": [
    {
     "name": "stdout",
     "output_type": "stream",
     "text": [
      "     Action  Adventure  Animation  Biography  Comedy  Crime  Documentary  \\\n",
      "0         1          1          0          0       0      0            0   \n",
      "1         1          1          0          0       0      0            0   \n",
      "2         1          1          0          0       0      0            0   \n",
      "3         1          1          0          0       0      0            0   \n",
      "4         1          1          0          0       0      0            0   \n",
      "..      ...        ...        ...        ...     ...    ...          ...   \n",
      "913       0          0          0          0       0      0            0   \n",
      "914       1          1          1          0       1      0            0   \n",
      "915       0          0          0          1       0      0            0   \n",
      "916       0          0          0          0       0      1            0   \n",
      "917       0          0          0          0       1      0            0   \n",
      "\n",
      "     Drama  Family  Fantasy  ...  Horror  Music  Musical  Mystery  Romance  \\\n",
      "0        0       0        0  ...       0      0        0        0        0   \n",
      "1        1       0        0  ...       0      0        0        0        0   \n",
      "2        0       0        1  ...       0      0        0        0        0   \n",
      "3        0       0        0  ...       0      0        0        0        0   \n",
      "4        0       0        0  ...       0      0        0        0        0   \n",
      "..     ...     ...      ...  ...     ...    ...      ...      ...      ...   \n",
      "913      1       0        0  ...       0      0        0        0        1   \n",
      "914      0       1        0  ...       0      0        0        0        0   \n",
      "915      1       0        0  ...       0      0        0        0        1   \n",
      "916      0       0        0  ...       1      0        0        0        0   \n",
      "917      0       1        1  ...       0      0        0        0        1   \n",
      "\n",
      "     Sci-Fi  Sport  Thriller  War  Western  \n",
      "0         1      0         0    0        0  \n",
      "1         1      0         0    0        0  \n",
      "2         1      0         0    0        0  \n",
      "3         1      0         0    0        0  \n",
      "4         1      0         0    0        0  \n",
      "..      ...    ...       ...  ...      ...  \n",
      "913       0      0         0    0        0  \n",
      "914       1      0         0    0        0  \n",
      "915       0      0         0    0        0  \n",
      "916       0      0         0    0        0  \n",
      "917       0      0         0    0        0  \n",
      "\n",
      "[918 rows x 21 columns]\n"
     ]
    },
    {
     "data": {
      "text/plain": [
       "Text(0, 0.5, 'Average Revenue in $')"
      ]
     },
     "execution_count": 6,
     "metadata": {},
     "output_type": "execute_result"
    },
    {
     "data": {
      "image/png": "[encoded data removed]",
      "text/plain": [
       "<Figure size 432x288 with 1 Axes>"
      ]
     },
     "metadata": {
      "needs_background": "light"
     },
     "output_type": "display_data"
    }
   ],
   "source": [
    "import pandas as pd\n",
    "import matplotlib.pyplot as plt\n",
    "\n",
    "data = pd.read_csv('./Highest Holywood Grossing Movies.csv', skiprows=0)\n",
    "\n",
    "df2 = pd.DataFrame(data, columns = ['World Sales (in $)', 'Genre'])\n",
    "df3 = (df2['Genre'].str.split(\"'\", expand=True)\n",
    "                         .replace(',', '')\n",
    "                         .apply(pd.value_counts, axis=1)\n",
    "                         .fillna(0)  \n",
    "                         .astype(int))\n",
    "\n",
    "y = df3[df3.columns[1:22]].copy()\n",
    "print(y)\n",
    "\n",
    "y1 = y.sum().to_dict()\n",
    "\n",
    "z = y.mul(df2[\"World Sales (in $)\"], axis=0)\n",
    "x = z.sum().to_dict()\n",
    "\n",
    "result = {}\n",
    "for (i, v), (i2, v2) in zip(\n",
    "    y1.items(), x.items()\n",
    "    ):\n",
    "    avg = v2 / v\n",
    "    result[i] = avg\n",
    "\n",
    "plt.bar(result.keys(), result.values(), width=0.6)\n",
    "plt.xticks(rotation=90)\n",
    "plt.ylabel('Average Revenue in $')"
   ]
  },
  {
   "cell_type": "code",
   "execution_count": null,
   "metadata": {},
   "outputs": [],
   "source": []
  }
 ],
 "metadata": {
  "interpreter": {
   "hash": "63fd5069d213b44bf678585dea6b12cceca9941eaf7f819626cde1f2670de90d"
  },
  "kernelspec": {
   "display_name": "Python 3",
   "language": "python",
   "name": "python3"
  },
  "language_info": {
   "codemirror_mode": {
    "name": "ipython",
    "version": 3
   },
   "file_extension": ".py",
   "mimetype": "text/x-python",
   "name": "python",
   "nbconvert_exporter": "python",
   "pygments_lexer": "ipython3",
   "version": "3.7.6"
  }
 },
 "nbformat": 4,
 "nbformat_minor": 2
}
